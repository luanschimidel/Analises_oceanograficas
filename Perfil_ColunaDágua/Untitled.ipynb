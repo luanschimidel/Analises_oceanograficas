{
 "cells": [
  {
   "cell_type": "code",
   "execution_count": null,
   "metadata": {},
   "outputs": [],
   "source": [
    "import pandas as pd\n",
    "import matplotlib.pyplot as plt\n",
    "import copy\n",
    "\n",
    "diretorio = r\"C:\\Users\\ximis\\workspace\\Matesp\\atividade_6/\"\n",
    "\n",
    "file_name = \"11E101660_20110922_130712.csv\"\n",
    "\n",
    "file_csv = diretorio + file_name\n",
    "\n",
    "file_df = pd.read_csv(file_csv, header = 28, sep = \",\")\n",
    "\n",
    "lista = ['Pressure (Decibar)', 'Depth (Meter)', 'Temperature (Celsius)',\n",
    "       'Conductivity (MicroSiemens per Centimeter)',\n",
    "       'Specific conductance (MicroSiemens per Centimeter)',\n",
    "       'Salinity (Practical Salinity Scale)',\n",
    "       'Sound velocity (Meters per Second)',\n",
    "       'Density (Kilograms per Cubic Meter)']\n",
    "\n",
    "copy_df = copy.deepcopy(file_df[lista])\n",
    "\n",
    "y_label = file_df['Depth (Meter)']\n",
    "\n",
    "\n",
    "fig , (ax1,ax2) = plt.subplots (nrows = 1, ncols =2, figsize = (8,4), dpi = 300) #cria figura com 2 eixos\n",
    "\n",
    "ax1.plot(file_df['Temperature (Celsius)'], file_df['Depth (Meter)'])\n",
    "ax1.invert_yaxis()\n",
    "ax1.annotate('Perfil de Temperatura',xy = (25,19)) \n",
    "\n",
    "\n",
    "ax2.plot(file_df['Salinity (Practical Salinity Scale)'],file_df['Depth (Meter)'])\n",
    "ax2.invert_yaxis()\n",
    "ax2.annotate('Perfil de Salinidade',xy = (35,19),fontsize = 9)\n",
    "\n",
    "\n",
    "fig.suptitle('Perfis CTds', fontsize = 18 , color = 'Red') \n",
    "\n",
    "plt.subplots_adjust (top=0.880 , bottom = 0.205 , left = 0.110 , right = 0.900, wspace = 0.200 , hspace= 0.210)"
   ]
  }
 ],
 "metadata": {
  "kernelspec": {
   "display_name": "Python 3",
   "language": "python",
   "name": "python3"
  },
  "language_info": {
   "codemirror_mode": {
    "name": "ipython",
    "version": 3
   },
   "file_extension": ".py",
   "mimetype": "text/x-python",
   "name": "python",
   "nbconvert_exporter": "python",
   "pygments_lexer": "ipython3",
   "version": "3.7.6"
  }
 },
 "nbformat": 4,
 "nbformat_minor": 4
}
